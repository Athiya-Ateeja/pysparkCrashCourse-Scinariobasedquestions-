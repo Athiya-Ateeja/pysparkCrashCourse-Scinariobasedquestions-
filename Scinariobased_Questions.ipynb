{
 "cells": [
  {
   "cell_type": "code",
   "execution_count": 0,
   "metadata": {
    "application/vnd.databricks.v1+cell": {
     "cellMetadata": {
      "byteLimit": 2048000,
      "rowLimit": 10000
     },
     "inputWidgets": {},
     "nuid": "9f51935d-17cf-47fb-83fb-a861d6adb7c4",
     "showTitle": true,
     "title": "Read csv File"
    }
   },
   "outputs": [],
   "source": [
    "df = spark.read.format(\"csv\").option(\"header\" , True).load(\"dbfs:/FileStore/shared_uploads/athiyastudies@gmail.com/original.csv\")"
   ]
  },
  {
   "cell_type": "code",
   "execution_count": 0,
   "metadata": {
    "application/vnd.databricks.v1+cell": {
     "cellMetadata": {
      "byteLimit": 2048000,
      "rowLimit": 10000
     },
     "inputWidgets": {},
     "nuid": "dc69a114-1c58-40c4-af43-be51b70c74d4",
     "showTitle": true,
     "title": "Cast Salary to Float"
    }
   },
   "outputs": [
    {
     "output_type": "stream",
     "name": "stdout",
     "output_type": "stream",
     "text": [
      "+---+----------+----------+------+---------------+--------------------+---------+----------+-----------+--------+\n| id|first_name| last_name|gender|           City|            JobTitle|   Salary|  Latitude|  Longitude|  newSal|\n+---+----------+----------+------+---------------+--------------------+---------+----------+-----------+--------+\n|  1|   Melinde| Shilburne|Female|      Nowa Ruda| Assistant Professor|$57438.18|50.5774075| 16.4967184|57438.18|\n|  2|  Kimberly|Von Welden|Female|         Bulgan|       Programmer II|$62846.60|48.8231572|103.5218199| 62846.6|\n|  3|    Alvera|  Di Boldi|Female|           null|                null|$57576.52|39.9947462|116.3397725|57576.52|\n|  4|   Shannon| O'Griffin|  Male|  Divnomorskoye|Budget/Accounting...|$61489.23|44.5047212| 38.1300171|61489.23|\n|  5|  Sherwood|   Macieja|  Male|      Mytishchi|            VP Sales|$63863.09|      null| 37.6489954|63863.09|\n|  6|     Maris|      Folk|Female|Kinsealy-Drinan|      Civil Engineer|$30101.16|53.4266145| -6.1644997|30101.16|\n|  7|     Masha|    Divers|Female|         Dachun|                null|$25090.87| 24.879416| 118.930111|25090.87|\n|  8|   Goddart|     Flear|  Male|      Trélissac|Desktop Support T...|$46116.36|45.1905186|  0.7423124|46116.36|\n|  9|      Roth|O'Cannavan|  Male|         Heitan|VP Product Manage...|$73697.10| 32.027934| 106.657113| 73697.1|\n| 10|      Bran|   Trahear|  Male|       Arbeláez|Mechanical System...|$68098.42|  4.272793| -74.416014|68098.42|\n| 11|    Kylynn|   Lockart|Female|       El Cardo|Nuclear Power Eng...|$13604.63|     -5.85|-79.8833329|13604.63|\n| 12|       Rey|    Meharg|Female|    Wangqingtuo|Systems Administr...|$73423.70| 39.172378| 116.931607| 73423.7|\n| 13|      Kerr|    Braden|  Male|      Sułkowice|Compensation Analyst|$33432.99|49.8151822| 19.3771749|33432.99|\n| 14|    Mickie| Whanstall|  Male|    Springfield|Assistant Media P...|$50838.53|42.1014803|-72.5766759|50838.53|\n| 15|    Kaspar|     Pally|  Male|         Chrást|  Analyst Programmer|$40163.03|49.7923299| 13.4915324|40163.03|\n| 16|    Norbie|    Gwyllt|  Male|         Xijiao|              Editor|$32492.73|43.4945737|  5.8978018|32492.73|\n| 17|    Claude|    Briant|Female|      Mieścisko|Research Assistan...|$51862.48|52.7441662| 17.3278637|51862.48|\n| 18|     Thain|    Habbon|  Male| Foros do Trapo|     Design Engineer|$42135.67| 38.696249| -8.7098337|42135.67|\n| 19|  Tiffanie|  Pattison|Female|    Jabungsisir|Senior Financial ...|$91925.08|-7.7232567|113.4686802|91925.08|\n| 20|    Ettore|  Gerriets|  Male|          Pedra| Staff Accountant IV|$73921.33|40.7172049| -8.3625148|73921.33|\n+---+----------+----------+------+---------------+--------------------+---------+----------+-----------+--------+\nonly showing top 20 rows\n\n"
     ]
    }
   ],
   "source": [
    "df = df.withColumn(\"newSal\",df.Salary.substr(2,100).cast(\"float\"))\n",
    "df.show()"
   ]
  },
  {
   "cell_type": "code",
   "execution_count": 0,
   "metadata": {
    "application/vnd.databricks.v1+cell": {
     "cellMetadata": {
      "byteLimit": 2048000,
      "rowLimit": 10000
     },
     "inputWidgets": {},
     "nuid": "89597945-7993-4325-9d10-ec14bb9d8759",
     "showTitle": false,
     "title": ""
    }
   },
   "outputs": [],
   "source": [
    "import pyspark.sql.functions as F"
   ]
  },
  {
   "cell_type": "code",
   "execution_count": 0,
   "metadata": {
    "application/vnd.databricks.v1+cell": {
     "cellMetadata": {
      "byteLimit": 2048000,
      "rowLimit": 10000
     },
     "inputWidgets": {},
     "nuid": "170f209f-f4b0-41a8-92cb-4dd13f1dc230",
     "showTitle": true,
     "title": "Find Avg Based on gender"
    }
   },
   "outputs": [],
   "source": [
    "df1 = df.groupBy('gender').agg(F.avg('newSal').alias(\"Avg Sal\"))"
   ]
  },
  {
   "cell_type": "code",
   "execution_count": 0,
   "metadata": {
    "application/vnd.databricks.v1+cell": {
     "cellMetadata": {
      "byteLimit": 2048000,
      "rowLimit": 10000
     },
     "inputWidgets": {},
     "nuid": "46ae6186-650e-47c9-959d-15421c854e77",
     "showTitle": false,
     "title": ""
    }
   },
   "outputs": [
    {
     "output_type": "stream",
     "name": "stdout",
     "output_type": "stream",
     "text": [
      "+------+-----------------+\n|gender|          Avg Sal|\n+------+-----------------+\n|Female|55618.94298820185|\n|  Male|55361.09385573019|\n+------+-----------------+\n\n"
     ]
    }
   ],
   "source": [
    "df1.show()"
   ]
  },
  {
   "cell_type": "code",
   "execution_count": 0,
   "metadata": {
    "application/vnd.databricks.v1+cell": {
     "cellMetadata": {
      "byteLimit": 2048000,
      "rowLimit": 10000
     },
     "inputWidgets": {},
     "nuid": "37944790-0b10-42dc-beb4-43b0fc36edec",
     "showTitle": false,
     "title": ""
    }
   },
   "outputs": [],
   "source": [
    "from pyspark.sql.functions import lit,when,col"
   ]
  },
  {
   "cell_type": "code",
   "execution_count": 0,
   "metadata": {
    "application/vnd.databricks.v1+cell": {
     "cellMetadata": {
      "byteLimit": 2048000,
      "rowLimit": 10000
     },
     "inputWidgets": {},
     "nuid": "fc0ecea6-b34b-48a1-b638-2b7c482111a9",
     "showTitle": true,
     "title": "When gender value is Female Set Male Value to 0 keep Female value as is "
    }
   },
   "outputs": [],
   "source": [
    "df2 = df.withColumn(\"FemaleSal\",when(df.gender=='Female',df.newSal).otherwise(lit(0)))"
   ]
  },
  {
   "cell_type": "code",
   "execution_count": 0,
   "metadata": {
    "application/vnd.databricks.v1+cell": {
     "cellMetadata": {
      "byteLimit": 2048000,
      "rowLimit": 10000
     },
     "inputWidgets": {},
     "nuid": "81b342b0-e13f-4af8-9bc2-5465925b5895",
     "showTitle": false,
     "title": ""
    }
   },
   "outputs": [
    {
     "output_type": "stream",
     "name": "stdout",
     "output_type": "stream",
     "text": [
      "+---+----------+----------+------+---------------+--------------------+---------+----------+-----------+--------+---------+\n| id|first_name| last_name|gender|           City|            JobTitle|   Salary|  Latitude|  Longitude|  newSal|FemaleSal|\n+---+----------+----------+------+---------------+--------------------+---------+----------+-----------+--------+---------+\n|  1|   Melinde| Shilburne|Female|      Nowa Ruda| Assistant Professor|$57438.18|50.5774075| 16.4967184|57438.18| 57438.18|\n|  2|  Kimberly|Von Welden|Female|         Bulgan|       Programmer II|$62846.60|48.8231572|103.5218199| 62846.6|  62846.6|\n|  3|    Alvera|  Di Boldi|Female|           null|                null|$57576.52|39.9947462|116.3397725|57576.52| 57576.52|\n|  4|   Shannon| O'Griffin|  Male|  Divnomorskoye|Budget/Accounting...|$61489.23|44.5047212| 38.1300171|61489.23|      0.0|\n|  5|  Sherwood|   Macieja|  Male|      Mytishchi|            VP Sales|$63863.09|      null| 37.6489954|63863.09|      0.0|\n|  6|     Maris|      Folk|Female|Kinsealy-Drinan|      Civil Engineer|$30101.16|53.4266145| -6.1644997|30101.16| 30101.16|\n|  7|     Masha|    Divers|Female|         Dachun|                null|$25090.87| 24.879416| 118.930111|25090.87| 25090.87|\n|  8|   Goddart|     Flear|  Male|      Trélissac|Desktop Support T...|$46116.36|45.1905186|  0.7423124|46116.36|      0.0|\n|  9|      Roth|O'Cannavan|  Male|         Heitan|VP Product Manage...|$73697.10| 32.027934| 106.657113| 73697.1|      0.0|\n| 10|      Bran|   Trahear|  Male|       Arbeláez|Mechanical System...|$68098.42|  4.272793| -74.416014|68098.42|      0.0|\n| 11|    Kylynn|   Lockart|Female|       El Cardo|Nuclear Power Eng...|$13604.63|     -5.85|-79.8833329|13604.63| 13604.63|\n| 12|       Rey|    Meharg|Female|    Wangqingtuo|Systems Administr...|$73423.70| 39.172378| 116.931607| 73423.7|  73423.7|\n| 13|      Kerr|    Braden|  Male|      Sułkowice|Compensation Analyst|$33432.99|49.8151822| 19.3771749|33432.99|      0.0|\n| 14|    Mickie| Whanstall|  Male|    Springfield|Assistant Media P...|$50838.53|42.1014803|-72.5766759|50838.53|      0.0|\n| 15|    Kaspar|     Pally|  Male|         Chrást|  Analyst Programmer|$40163.03|49.7923299| 13.4915324|40163.03|      0.0|\n| 16|    Norbie|    Gwyllt|  Male|         Xijiao|              Editor|$32492.73|43.4945737|  5.8978018|32492.73|      0.0|\n| 17|    Claude|    Briant|Female|      Mieścisko|Research Assistan...|$51862.48|52.7441662| 17.3278637|51862.48| 51862.48|\n| 18|     Thain|    Habbon|  Male| Foros do Trapo|     Design Engineer|$42135.67| 38.696249| -8.7098337|42135.67|      0.0|\n| 19|  Tiffanie|  Pattison|Female|    Jabungsisir|Senior Financial ...|$91925.08|-7.7232567|113.4686802|91925.08| 91925.08|\n| 20|    Ettore|  Gerriets|  Male|          Pedra| Staff Accountant IV|$73921.33|40.7172049| -8.3625148|73921.33|      0.0|\n+---+----------+----------+------+---------------+--------------------+---------+----------+-----------+--------+---------+\nonly showing top 20 rows\n\n"
     ]
    }
   ],
   "source": [
    "df2.show()"
   ]
  },
  {
   "cell_type": "code",
   "execution_count": 0,
   "metadata": {
    "application/vnd.databricks.v1+cell": {
     "cellMetadata": {
      "byteLimit": 2048000,
      "rowLimit": 10000
     },
     "inputWidgets": {},
     "nuid": "4bdd24bd-7a53-4c48-bd99-2a549f9f05fb",
     "showTitle": false,
     "title": ""
    }
   },
   "outputs": [],
   "source": [
    "df = df2.withColumn(\"MaleSal\",when(df2.gender=='Male',df2.newSal).otherwise(lit(0)))"
   ]
  },
  {
   "cell_type": "code",
   "execution_count": 0,
   "metadata": {
    "application/vnd.databricks.v1+cell": {
     "cellMetadata": {
      "byteLimit": 2048000,
      "rowLimit": 10000
     },
     "inputWidgets": {},
     "nuid": "0f4f5068-2475-41be-98d3-03bd702e9399",
     "showTitle": false,
     "title": ""
    }
   },
   "outputs": [
    {
     "output_type": "stream",
     "name": "stdout",
     "output_type": "stream",
     "text": [
      "+---+----------+----------+------+---------------+--------------------+---------+----------+-----------+--------+---------+--------+\n| id|first_name| last_name|gender|           City|            JobTitle|   Salary|  Latitude|  Longitude|  newSal|FemaleSal| MaleSal|\n+---+----------+----------+------+---------------+--------------------+---------+----------+-----------+--------+---------+--------+\n|  1|   Melinde| Shilburne|Female|      Nowa Ruda| Assistant Professor|$57438.18|50.5774075| 16.4967184|57438.18| 57438.18|     0.0|\n|  2|  Kimberly|Von Welden|Female|         Bulgan|       Programmer II|$62846.60|48.8231572|103.5218199| 62846.6|  62846.6|     0.0|\n|  3|    Alvera|  Di Boldi|Female|           null|                null|$57576.52|39.9947462|116.3397725|57576.52| 57576.52|     0.0|\n|  4|   Shannon| O'Griffin|  Male|  Divnomorskoye|Budget/Accounting...|$61489.23|44.5047212| 38.1300171|61489.23|      0.0|61489.23|\n|  5|  Sherwood|   Macieja|  Male|      Mytishchi|            VP Sales|$63863.09|      null| 37.6489954|63863.09|      0.0|63863.09|\n|  6|     Maris|      Folk|Female|Kinsealy-Drinan|      Civil Engineer|$30101.16|53.4266145| -6.1644997|30101.16| 30101.16|     0.0|\n|  7|     Masha|    Divers|Female|         Dachun|                null|$25090.87| 24.879416| 118.930111|25090.87| 25090.87|     0.0|\n|  8|   Goddart|     Flear|  Male|      Trélissac|Desktop Support T...|$46116.36|45.1905186|  0.7423124|46116.36|      0.0|46116.36|\n|  9|      Roth|O'Cannavan|  Male|         Heitan|VP Product Manage...|$73697.10| 32.027934| 106.657113| 73697.1|      0.0| 73697.1|\n| 10|      Bran|   Trahear|  Male|       Arbeláez|Mechanical System...|$68098.42|  4.272793| -74.416014|68098.42|      0.0|68098.42|\n| 11|    Kylynn|   Lockart|Female|       El Cardo|Nuclear Power Eng...|$13604.63|     -5.85|-79.8833329|13604.63| 13604.63|     0.0|\n| 12|       Rey|    Meharg|Female|    Wangqingtuo|Systems Administr...|$73423.70| 39.172378| 116.931607| 73423.7|  73423.7|     0.0|\n| 13|      Kerr|    Braden|  Male|      Sułkowice|Compensation Analyst|$33432.99|49.8151822| 19.3771749|33432.99|      0.0|33432.99|\n| 14|    Mickie| Whanstall|  Male|    Springfield|Assistant Media P...|$50838.53|42.1014803|-72.5766759|50838.53|      0.0|50838.53|\n| 15|    Kaspar|     Pally|  Male|         Chrást|  Analyst Programmer|$40163.03|49.7923299| 13.4915324|40163.03|      0.0|40163.03|\n| 16|    Norbie|    Gwyllt|  Male|         Xijiao|              Editor|$32492.73|43.4945737|  5.8978018|32492.73|      0.0|32492.73|\n| 17|    Claude|    Briant|Female|      Mieścisko|Research Assistan...|$51862.48|52.7441662| 17.3278637|51862.48| 51862.48|     0.0|\n| 18|     Thain|    Habbon|  Male| Foros do Trapo|     Design Engineer|$42135.67| 38.696249| -8.7098337|42135.67|      0.0|42135.67|\n| 19|  Tiffanie|  Pattison|Female|    Jabungsisir|Senior Financial ...|$91925.08|-7.7232567|113.4686802|91925.08| 91925.08|     0.0|\n| 20|    Ettore|  Gerriets|  Male|          Pedra| Staff Accountant IV|$73921.33|40.7172049| -8.3625148|73921.33|      0.0|73921.33|\n+---+----------+----------+------+---------------+--------------------+---------+----------+-----------+--------+---------+--------+\nonly showing top 20 rows\n\n"
     ]
    }
   ],
   "source": [
    "df.show()"
   ]
  },
  {
   "cell_type": "code",
   "execution_count": 0,
   "metadata": {
    "application/vnd.databricks.v1+cell": {
     "cellMetadata": {
      "byteLimit": 2048000,
      "rowLimit": 10000
     },
     "inputWidgets": {},
     "nuid": "d3dbbd04-13be-41b6-914a-3cffd3d0c72f",
     "showTitle": false,
     "title": ""
    }
   },
   "outputs": [],
   "source": [
    "df1 = df.groupBy(\"JobTitle\").agg(F.avg(\"FemaleSal\").alias(\"Female_avg_sal\"),F.avg(\"MaleSal\").alias(\"Male_avg_sal\"))"
   ]
  },
  {
   "cell_type": "code",
   "execution_count": 0,
   "metadata": {
    "application/vnd.databricks.v1+cell": {
     "cellMetadata": {
      "byteLimit": 2048000,
      "rowLimit": 10000
     },
     "inputWidgets": {},
     "nuid": "bf93181c-0573-470c-8ab2-ffc0702087cf",
     "showTitle": false,
     "title": ""
    }
   },
   "outputs": [
    {
     "output_type": "stream",
     "name": "stdout",
     "output_type": "stream",
     "text": [
      "+--------------------+------------------+------------------+\n|            JobTitle|    Female_avg_sal|      Male_avg_sal|\n+--------------------+------------------+------------------+\n|Systems Administr...|   50590.474609375|  15540.9501953125|\n|   Media Manager III|29586.436197916668|17381.920572916668|\n|  Recruiting Manager|34848.452473958336|  26383.4951171875|\n|       Geologist III|      31749.046875|    12830.75390625|\n|        Geologist II|               0.0|   43293.865234375|\n|Database Administ...|               0.0|     52018.4609375|\n|   Financial Analyst|   23353.776953125|       39606.05625|\n|  Analyst Programmer|  16406.1287109375|  21042.9634765625|\n|Software Engineer II|               0.0|      74782.640625|\n|       Accountant IV|   82732.248046875|               0.0|\n|    Product Engineer|    41825.48359375|       20464.94375|\n|Software Test Eng...|  32218.6083984375|   27122.462890625|\n|Safety Technician...|               0.0|   29421.529296875|\n|    Junior Executive|15752.220052083334|49510.330729166664|\n|Systems Administr...|       77059.21875|               0.0|\n|Human Resources A...|   24022.662109375| 16609.27783203125|\n|        VP Marketing| 7981.178385416667|52844.534830729164|\n|  Environmental Tech|13706.980143229166|      45660.890625|\n|Mechanical System...|31370.781901041668|44321.593098958336|\n| Assistant Professor|   22175.953515625|   26912.770703125|\n+--------------------+------------------+------------------+\nonly showing top 20 rows\n\n"
     ]
    }
   ],
   "source": [
    "df1.show()"
   ]
  },
  {
   "cell_type": "code",
   "execution_count": 0,
   "metadata": {
    "application/vnd.databricks.v1+cell": {
     "cellMetadata": {
      "byteLimit": 2048000,
      "rowLimit": 10000
     },
     "inputWidgets": {},
     "nuid": "254e99d8-447a-4e9c-9b06-d12bd48a27fe",
     "showTitle": false,
     "title": ""
    }
   },
   "outputs": [],
   "source": [
    "df3 = df1.withColumn(\"delta\",df1.Female_avg_sal-df1.Male_avg_sal)"
   ]
  },
  {
   "cell_type": "code",
   "execution_count": 0,
   "metadata": {
    "application/vnd.databricks.v1+cell": {
     "cellMetadata": {
      "byteLimit": 2048000,
      "rowLimit": 10000
     },
     "inputWidgets": {},
     "nuid": "8449d371-7097-44fe-b761-b4bcb698b641",
     "showTitle": false,
     "title": ""
    }
   },
   "outputs": [
    {
     "output_type": "stream",
     "name": "stdout",
     "output_type": "stream",
     "text": [
      "+--------------------+------------------+------------------+-------------------+\n|            JobTitle|    Female_avg_sal|      Male_avg_sal|              delta|\n+--------------------+------------------+------------------+-------------------+\n|Systems Administr...|   50590.474609375|  15540.9501953125|   35049.5244140625|\n|   Media Manager III|29586.436197916668|17381.920572916668|       12204.515625|\n|  Recruiting Manager|34848.452473958336|  26383.4951171875|  8464.957356770836|\n|       Geologist III|      31749.046875|    12830.75390625|     18918.29296875|\n|        Geologist II|               0.0|   43293.865234375|   -43293.865234375|\n|Database Administ...|               0.0|     52018.4609375|     -52018.4609375|\n|   Financial Analyst|   23353.776953125|       39606.05625|   -16252.279296875|\n|  Analyst Programmer|  16406.1287109375|  21042.9634765625| -4636.834765625001|\n|Software Engineer II|               0.0|      74782.640625|      -74782.640625|\n|       Accountant IV|   82732.248046875|               0.0|    82732.248046875|\n|    Product Engineer|    41825.48359375|       20464.94375| 21360.539843750004|\n|Software Test Eng...|  32218.6083984375|   27122.462890625|    5096.1455078125|\n|Safety Technician...|               0.0|   29421.529296875|   -29421.529296875|\n|    Junior Executive|15752.220052083334|49510.330729166664| -33758.11067708333|\n|Systems Administr...|       77059.21875|               0.0|        77059.21875|\n|Human Resources A...|   24022.662109375| 16609.27783203125|   7413.38427734375|\n|        VP Marketing| 7981.178385416667|52844.534830729164|  -44863.3564453125|\n|  Environmental Tech|13706.980143229166|      45660.890625|-31953.910481770836|\n|Mechanical System...|31370.781901041668|44321.593098958336|-12950.811197916668|\n| Assistant Professor|   22175.953515625|   26912.770703125| -4736.817187500001|\n+--------------------+------------------+------------------+-------------------+\nonly showing top 20 rows\n\n"
     ]
    }
   ],
   "source": [
    "df3.show()"
   ]
  },
  {
   "cell_type": "code",
   "execution_count": 0,
   "metadata": {
    "application/vnd.databricks.v1+cell": {
     "cellMetadata": {
      "byteLimit": 2048000,
      "rowLimit": 10000
     },
     "inputWidgets": {},
     "nuid": "6b2a8bbe-85a0-4665-adc9-fde310eae36a",
     "showTitle": false,
     "title": ""
    }
   },
   "outputs": [],
   "source": [
    "avgCity = df.groupBy('City').agg(F.avg('newSal').alias('CittyAvg'))"
   ]
  },
  {
   "cell_type": "code",
   "execution_count": 0,
   "metadata": {
    "application/vnd.databricks.v1+cell": {
     "cellMetadata": {
      "byteLimit": 2048000,
      "rowLimit": 10000
     },
     "inputWidgets": {},
     "nuid": "6683e5ae-3dac-42de-a54a-9771cf0fc336",
     "showTitle": false,
     "title": ""
    }
   },
   "outputs": [],
   "source": [
    "highavgCity = avgCity.sort(col('CittyAvg').desc())"
   ]
  },
  {
   "cell_type": "code",
   "execution_count": 0,
   "metadata": {
    "application/vnd.databricks.v1+cell": {
     "cellMetadata": {
      "byteLimit": 2048000,
      "rowLimit": 10000
     },
     "inputWidgets": {},
     "nuid": "d6a5d3a7-98be-4112-9ac3-986098d12d0d",
     "showTitle": false,
     "title": ""
    }
   },
   "outputs": [
    {
     "output_type": "stream",
     "name": "stdout",
     "output_type": "stream",
     "text": [
      "+-----------------+-------------+\n|             City|     CittyAvg|\n+-----------------+-------------+\n|        Mesopotam|  99948.28125|\n|       Zhongcheng| 99942.921875|\n|           Caxias|99786.3984375|\n|      Karangtawar|99638.9921875|\n|        Itabaiana|  99502.15625|\n|           Pasian|  99421.34375|\n|           Webuye| 99368.546875|\n|      Yuktae-dong| 99250.828125|\n|           Zinder|  99222.84375|\n|   Timiryazevskiy|   99142.9375|\n|        Sawahbaru|99013.7109375|\n|          Madimba|98737.8671875|\n|         Huangshi|  98690.34375|\n|          Gharyan|   98679.3125|\n|         Yŏnan-ŭp| 98628.609375|\n|     Wringinputih|98603.8203125|\n|Monte da Boavista|  98586.71875|\n|          Klukeng|98439.4921875|\n|         Murmashi|  98226.15625|\n|        Fox Creek|      98138.0|\n+-----------------+-------------+\nonly showing top 20 rows\n\n"
     ]
    }
   ],
   "source": [
    "highavgCity.show()"
   ]
  }
 ],
 "metadata": {
  "application/vnd.databricks.v1+notebook": {
   "dashboards": [],
   "language": "python",
   "notebookMetadata": {
    "mostRecentlyExecutedCommandWithImplicitDF": {
     "commandId": 2786910270821724,
     "dataframes": [
      "_sqldf"
     ]
    },
    "pythonIndentUnit": 4
   },
   "notebookName": "Scinariobased_Questions",
   "widgets": {}
  }
 },
 "nbformat": 4,
 "nbformat_minor": 0
}
